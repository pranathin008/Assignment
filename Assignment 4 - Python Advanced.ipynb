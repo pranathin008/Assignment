{
 "cells": [
  {
   "cell_type": "markdown",
   "metadata": {},
   "source": [
    "# Assignment 4 Questions"
   ]
  },
  {
   "cell_type": "markdown",
   "metadata": {},
   "source": [
    "## Problem Statement"
   ]
  },
  {
   "cell_type": "markdown",
   "metadata": {},
   "source": [
    "Q.1 Given a sequence of n values x1, x2, ..., xn and a window size k>0, the k-th moving average of\n",
    "the given sequence is defined as follows:\n",
    "\n",
    "The moving average sequence has n-k+1 elements as shown below.\n",
    "The moving averages with k=4 of a ten-value sequence (n=10) is shown below\n",
    "\n",
    "    i 1 2 3 4 5 6 7 8 9 10\n",
    "    ===== == == == == == == == == == ==\n",
    "    Input 10 20 30 40 50 60 70 80 90 100\n",
    "    y1 25 = (10+20+30+40)/4\n",
    "    y2 35 = (20+30+40+50)/4\n",
    "    y3 45 = (30+40+50+60)/4\n",
    "    y4 55 = (40+50+60+70)/4\n",
    "    y5 65 = (50+60+70+80)/4\n",
    "    y6 75 = (60+70+80+90)/4\n",
    "    y7 85 = (70+80+90+100)/4\n",
    "\n",
    "Thus, the moving average sequence has n-k+1=10-4+1=7 values.\n",
    "\n",
    "Write a function to find moving average in an array over a window:\n",
    "\n",
    "Test it over [3, 5, 7, 2, 8, 10, 11, 65, 72, 81, 99, 100, 150] and window of 3."
   ]
  },
  {
   "cell_type": "code",
   "execution_count": 83,
   "metadata": {},
   "outputs": [
    {
     "name": "stdout",
     "output_type": "stream",
     "text": [
      "[  5.           4.66666667   5.66666667   6.66666667   9.66666667\n",
      "  28.66666667  49.33333333  72.66666667  84.          93.33333333\n",
      " 116.33333333]\n"
     ]
    }
   ],
   "source": [
    "import numpy as np\n",
    "input = [3, 5, 7, 2, 8, 10, 11, 65, 72, 81, 99, 100, 150]\n",
    "\n",
    "def moving_average(input, window):\n",
    "    weights = np.repeat(1.0, window)/window\n",
    "    smas = np.convolve(input,weights, 'valid')\n",
    "    return smas\n",
    "    \n",
    "    \n",
    "print(moving_average(input,3))"
   ]
  },
  {
   "cell_type": "markdown",
   "metadata": {},
   "source": [
    "Q.2 How-to-count-distance-to-the-previous-zero\n",
    "For each value, count the difference back to the previous zero (or the start of the Series,\n",
    "whichever is closer)\n",
    "create a new column 'Y'\n",
    "Consider a DataFrame df where there is an integer column 'X'\n",
    "    \n",
    "    import pandas as pd\n",
    "    df = pd.DataFrame({'X': [7, 2, 0, 3, 4, 2, 5, 0, 3, 4]})"
   ]
  },
  {
   "cell_type": "code",
   "execution_count": 47,
   "metadata": {},
   "outputs": [
    {
     "data": {
      "text/plain": [
       "[1, 2, 0, 1, 2, 3, 4, 0, 1, 2]"
      ]
     },
     "execution_count": 47,
     "metadata": {},
     "output_type": "execute_result"
    }
   ],
   "source": [
    "import pandas as pd\n",
    "\n",
    "s = pd.Series([7, 2, 0, 3, 4, 2, 5, 0, 3, 4])\n",
    "\n",
    "(s.groupby(s.eq(0).cumsum().mask(s.eq(0))).cumcount() + 1).mask(s.eq(0), 0).tolist()"
   ]
  },
  {
   "cell_type": "markdown",
   "metadata": {},
   "source": [
    "Q.3 Create a DatetimeIndex that contains each business day of 2015 and use it to index a Series of\n",
    "random numbers."
   ]
  },
  {
   "cell_type": "code",
   "execution_count": 26,
   "metadata": {},
   "outputs": [
    {
     "data": {
      "text/plain": [
       "datetime.datetime(2020, 2, 18, 14, 3, 37, 726968)"
      ]
     },
     "execution_count": 26,
     "metadata": {},
     "output_type": "execute_result"
    }
   ],
   "source": [
    "import datetime\n",
    "\n",
    "date = datetime.datetime.now()\n",
    "date"
   ]
  },
  {
   "cell_type": "code",
   "execution_count": 42,
   "metadata": {},
   "outputs": [
    {
     "name": "stdout",
     "output_type": "stream",
     "text": [
      "2015-01-01      0\n",
      "2015-01-02      1\n",
      "2015-01-03      2\n",
      "2015-01-04      3\n",
      "2015-01-05      4\n",
      "2015-01-06      5\n",
      "2015-01-07      6\n",
      "2015-01-08      7\n",
      "2015-01-09      8\n",
      "2015-01-10      9\n",
      "2015-01-11     10\n",
      "2015-01-12     11\n",
      "2015-01-13     12\n",
      "2015-01-14     13\n",
      "2015-01-15     14\n",
      "2015-01-16     15\n",
      "2015-01-17     16\n",
      "2015-01-18     17\n",
      "2015-01-19     18\n",
      "2015-01-20     19\n",
      "2015-01-21     20\n",
      "2015-01-22     21\n",
      "2015-01-23     22\n",
      "2015-01-24     23\n",
      "2015-01-25     24\n",
      "2015-01-26     25\n",
      "2015-01-27     26\n",
      "2015-01-28     27\n",
      "2015-01-29     28\n",
      "2015-01-30     29\n",
      "             ... \n",
      "2015-12-02    335\n",
      "2015-12-03    336\n",
      "2015-12-04    337\n",
      "2015-12-05    338\n",
      "2015-12-06    339\n",
      "2015-12-07    340\n",
      "2015-12-08    341\n",
      "2015-12-09    342\n",
      "2015-12-10    343\n",
      "2015-12-11    344\n",
      "2015-12-12    345\n",
      "2015-12-13    346\n",
      "2015-12-14    347\n",
      "2015-12-15    348\n",
      "2015-12-16    349\n",
      "2015-12-17    350\n",
      "2015-12-18    351\n",
      "2015-12-19    352\n",
      "2015-12-20    353\n",
      "2015-12-21    354\n",
      "2015-12-22    355\n",
      "2015-12-23    356\n",
      "2015-12-24    357\n",
      "2015-12-25    358\n",
      "2015-12-26    359\n",
      "2015-12-27    360\n",
      "2015-12-28    361\n",
      "2015-12-29    362\n",
      "2015-12-30    363\n",
      "2015-12-31    364\n",
      "Freq: D, Length: 365, dtype: int64\n"
     ]
    }
   ],
   "source": [
    "date = pd.date_range('2015-01-01', '2015-12-31')\n",
    "series = pd.Series(range(365), index= date)\n",
    "print(series)\n"
   ]
  },
  {
   "cell_type": "markdown",
   "metadata": {},
   "source": [
    "Q.4 "
   ]
  },
  {
   "cell_type": "code",
   "execution_count": null,
   "metadata": {},
   "outputs": [],
   "source": [
    "\n"
   ]
  },
  {
   "cell_type": "code",
   "execution_count": null,
   "metadata": {},
   "outputs": [],
   "source": []
  },
  {
   "cell_type": "code",
   "execution_count": null,
   "metadata": {},
   "outputs": [],
   "source": []
  },
  {
   "cell_type": "code",
   "execution_count": null,
   "metadata": {},
   "outputs": [],
   "source": []
  },
  {
   "cell_type": "code",
   "execution_count": null,
   "metadata": {},
   "outputs": [],
   "source": []
  },
  {
   "cell_type": "code",
   "execution_count": null,
   "metadata": {},
   "outputs": [],
   "source": []
  },
  {
   "cell_type": "code",
   "execution_count": null,
   "metadata": {},
   "outputs": [],
   "source": []
  },
  {
   "cell_type": "code",
   "execution_count": null,
   "metadata": {},
   "outputs": [],
   "source": []
  }
 ],
 "metadata": {
  "kernelspec": {
   "display_name": "Python 3",
   "language": "python",
   "name": "python3"
  },
  "language_info": {
   "codemirror_mode": {
    "name": "ipython",
    "version": 3
   },
   "file_extension": ".py",
   "mimetype": "text/x-python",
   "name": "python",
   "nbconvert_exporter": "python",
   "pygments_lexer": "ipython3",
   "version": "3.7.3"
  }
 },
 "nbformat": 4,
 "nbformat_minor": 2
}
