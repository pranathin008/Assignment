{
 "cells": [
  {
   "cell_type": "code",
   "execution_count": 15,
   "metadata": {},
   "outputs": [],
   "source": [
    "# Convolutional Neural Network\n",
    "\n",
    "\n",
    "\n",
    "# Part 1 - Building the CNN\n",
    "# Importing the Keras libraries and packages\n",
    "from keras.models import Sequential\n",
    "from keras.layers import Conv2D\n",
    "from keras.layers import MaxPooling2D\n",
    "from keras.layers import Flatten\n",
    "from keras.layers import Dense"
   ]
  },
  {
   "cell_type": "code",
   "execution_count": 26,
   "metadata": {},
   "outputs": [],
   "source": [
    "\n",
    "# Initialising the CNN\n",
    "classifier = Sequential()\n",
    "\n",
    "# Step 1 - Convolution\n",
    "classifier.add(Conv2D(32, (3, 3), input_shape = (64, 64, 3), activation = 'relu'))\n",
    "\n",
    "# Step 2 - Pooling\n",
    "classifier.add(MaxPooling2D(pool_size = (2, 2)))\n",
    "\n",
    "# Adding a second convolutional layer\n",
    "classifier.add(Conv2D(32, (3, 3), activation = 'relu'))\n",
    "classifier.add(MaxPooling2D(pool_size = (2, 2)))\n",
    "\n",
    "\n",
    "\n",
    "# Step 3 - Flattening\n",
    "classifier.add(Flatten())\n",
    "\n",
    "# Step 4 - Full connection\n",
    "classifier.add(Dense(units = 128, activation = 'relu'))\n",
    "\n",
    "classifier.add(Dense(units = 3, activation = 'softmax'))\n",
    "\n",
    "# Compiling the CNN\n",
    "classifier.compile(optimizer = 'adam', loss = 'categorical_crossentropy', metrics = ['accuracy'])\n",
    "\n"
   ]
  },
  {
   "cell_type": "code",
   "execution_count": 27,
   "metadata": {},
   "outputs": [
    {
     "name": "stdout",
     "output_type": "stream",
     "text": [
      "Found 31 images belonging to 3 classes.\n",
      "Found 12 images belonging to 3 classes.\n",
      "Epoch 1/20\n",
      "1/1 [==============================] - 1s 533ms/step - loss: 1.1615 - accuracy: 0.0968 - val_loss: 2.5400 - val_accuracy: 0.3333\n",
      "Epoch 2/20\n",
      "1/1 [==============================] - 0s 210ms/step - loss: 2.4695 - accuracy: 0.3548 - val_loss: 1.0523 - val_accuracy: 0.4167\n",
      "Epoch 3/20\n",
      "1/1 [==============================] - 0s 281ms/step - loss: 0.9669 - accuracy: 0.5161 - val_loss: 1.1571 - val_accuracy: 0.4167\n",
      "Epoch 4/20\n",
      "1/1 [==============================] - 0s 274ms/step - loss: 1.1709 - accuracy: 0.4516 - val_loss: 1.1194 - val_accuracy: 0.5000\n",
      "Epoch 5/20\n",
      "1/1 [==============================] - 0s 311ms/step - loss: 1.0953 - accuracy: 0.5806 - val_loss: 1.0664 - val_accuracy: 0.4167\n",
      "Epoch 6/20\n",
      "1/1 [==============================] - 0s 317ms/step - loss: 1.0317 - accuracy: 0.5161 - val_loss: 0.9916 - val_accuracy: 0.5000\n",
      "Epoch 7/20\n",
      "1/1 [==============================] - 0s 312ms/step - loss: 0.9349 - accuracy: 0.6452 - val_loss: 0.9603 - val_accuracy: 0.5833\n",
      "Epoch 8/20\n",
      "1/1 [==============================] - 0s 273ms/step - loss: 0.9000 - accuracy: 0.6129 - val_loss: 0.9563 - val_accuracy: 0.4167\n",
      "Epoch 9/20\n",
      "1/1 [==============================] - 0s 281ms/step - loss: 0.8733 - accuracy: 0.5806 - val_loss: 0.9550 - val_accuracy: 0.4167\n",
      "Epoch 10/20\n",
      "1/1 [==============================] - 0s 255ms/step - loss: 0.8705 - accuracy: 0.5484 - val_loss: 0.9471 - val_accuracy: 0.4167\n",
      "Epoch 11/20\n",
      "1/1 [==============================] - 0s 315ms/step - loss: 0.8524 - accuracy: 0.5484 - val_loss: 0.9270 - val_accuracy: 0.4167\n",
      "Epoch 12/20\n",
      "1/1 [==============================] - 0s 274ms/step - loss: 0.8289 - accuracy: 0.6129 - val_loss: 0.8950 - val_accuracy: 0.6667\n",
      "Epoch 13/20\n",
      "1/1 [==============================] - 0s 375ms/step - loss: 0.7782 - accuracy: 0.5806 - val_loss: 0.8548 - val_accuracy: 0.7500\n",
      "Epoch 14/20\n",
      "1/1 [==============================] - 0s 336ms/step - loss: 0.7648 - accuracy: 0.6129 - val_loss: 0.8246 - val_accuracy: 0.6667\n",
      "Epoch 15/20\n",
      "1/1 [==============================] - 0s 327ms/step - loss: 0.7023 - accuracy: 0.7419 - val_loss: 0.8131 - val_accuracy: 0.6667\n",
      "Epoch 16/20\n",
      "1/1 [==============================] - 0s 292ms/step - loss: 0.6890 - accuracy: 0.7097 - val_loss: 0.7692 - val_accuracy: 0.7500\n",
      "Epoch 17/20\n",
      "1/1 [==============================] - 0s 324ms/step - loss: 0.6778 - accuracy: 0.7742 - val_loss: 0.7427 - val_accuracy: 0.8333\n",
      "Epoch 18/20\n",
      "1/1 [==============================] - 0s 312ms/step - loss: 0.6378 - accuracy: 0.7419 - val_loss: 0.7363 - val_accuracy: 0.7500\n",
      "Epoch 19/20\n",
      "1/1 [==============================] - 0s 357ms/step - loss: 0.6224 - accuracy: 0.7419 - val_loss: 0.7359 - val_accuracy: 0.5833\n",
      "Epoch 20/20\n",
      "1/1 [==============================] - 0s 347ms/step - loss: 0.5718 - accuracy: 0.7419 - val_loss: 0.7468 - val_accuracy: 0.5833\n"
     ]
    },
    {
     "data": {
      "text/plain": [
       "<keras.callbacks.callbacks.History at 0x1f01157fe80>"
      ]
     },
     "execution_count": 27,
     "metadata": {},
     "output_type": "execute_result"
    }
   ],
   "source": [
    "\n",
    "# Part 2 - Fitting the CNN to the images\n",
    "\n",
    "from keras.preprocessing.image import ImageDataGenerator\n",
    "\n",
    "train_datagen = ImageDataGenerator(rescale = 1./255,\n",
    "                                   shear_range = 0.2,\n",
    "                                   zoom_range = 0.2,\n",
    "                                   horizontal_flip = True)\n",
    "\n",
    "test_datagen = ImageDataGenerator(rescale = 1./255)\n",
    "\n",
    "training_set = train_datagen.flow_from_directory('C:/Users/user/Desktop/Resume/python_files/Python_KT/Python/Deep learning_practise/ImageClassification-master/ImageData/training',\n",
    "                                                 target_size = (64, 64),\n",
    "                                                 batch_size = 32,\n",
    "                                                 class_mode = 'categorical')\n",
    "\n",
    "test_set = test_datagen.flow_from_directory('C:/Users/user/Desktop/Resume/python_files/Python_KT/Python/Deep learning_practise/ImageClassification-master/ImageData/test',\n",
    "                                            target_size = (64, 64),\n",
    "                                            batch_size = 32,\n",
    "                                            class_mode = 'categorical')\n",
    "\n",
    "\n",
    "classifier.fit_generator(training_set,\n",
    "                         steps_per_epoch = len(training_set),\n",
    "                         epochs = 20,\n",
    "                         validation_data = test_set,    \n",
    "                         validation_steps = len(test_set))\n"
   ]
  },
  {
   "cell_type": "code",
   "execution_count": 28,
   "metadata": {},
   "outputs": [
    {
     "name": "stdout",
     "output_type": "stream",
     "text": [
      "[[1. 0. 0.]]\n",
      "Abdul kalam\n"
     ]
    }
   ],
   "source": [
    "# Part 3 - Making new predictions\n",
    "import numpy as np\n",
    "from keras.preprocessing import image\n",
    "test_image = image.load_img('C:/Users/user/Desktop/Resume/python_files/Python_KT/Python/Deep learning_practise/ImageClassification-master/ImageData/abdul.jpg', target_size = (64, 64))\n",
    "test_image = image.img_to_array(test_image)\n",
    "test_image = np.expand_dims(test_image, axis = 0)\n",
    "result = classifier.predict(test_image)\n",
    "training_set.class_indices\n",
    "print(result)\n",
    "if result[0][0] == 1:\n",
    "    prediction = 'Abdul kalam'\n",
    "    print(prediction)\n",
    "elif result[0][1] == 1:\n",
    "    prediction = 'Gandhi'\n",
    "    print(prediction)\n",
    "else:\n",
    "    prediction = 'sundarpichai'\n",
    "    print(prediction)\n",
    "    "
   ]
  },
  {
   "cell_type": "markdown",
   "metadata": {},
   "source": [
    "Implemetation in Modified LENET"
   ]
  },
  {
   "cell_type": "code",
   "execution_count": 20,
   "metadata": {},
   "outputs": [],
   "source": [
    "import keras\n",
    "from keras.layers import Conv2D, MaxPooling2D\n",
    "from keras.layers import Dense, Flatten\n",
    "from keras.models import Sequential"
   ]
  },
  {
   "cell_type": "code",
   "execution_count": 21,
   "metadata": {},
   "outputs": [],
   "source": [
    "model = Sequential()\n",
    "# Select 6 feature convolution kernels with a size of 3 * 3 (without offset), and get 6 feature maps. The size of each feature map is 32−3 + 1 = 30.\n",
    "# That is, the number of neurons has been reduced from 1024 to 30 ∗ 30 = 900 .\n",
    "# Parameters between input layer and C1 layer: 6 ∗ (3 ∗ 3 + 1)\n",
    "model.add(Conv2D(6, kernel_size=(3, 3), activation='relu', input_shape=(32, 32, 3)))\n",
    "# The input of this layer is the output of the first layer, which is a 30 * 30 * 6 node matrix.\n",
    "# The size of the filter used in this layer is 2 * 2, and the step length and width are both 2, so the output matrix size of this layer is 14 * 14 * 6.\n",
    "model.add(MaxPooling2D(pool_size=(2, 2)))\n",
    "# The input matrix size of this layer is 15 * 15 * 6, the filter size used is 3 * 3, and the depth is 16. This layer does not use all 0 padding, and the step size is 1.\n",
    "# The output matrix size of this layer is 13 * 13 * 16. This layer has 3 * 3 * 6 * 16 + 16 = 880 parameters\n",
    "model.add(Conv2D(16, kernel_size=(3, 3), activation='relu'))\n",
    "# The input matrix size of this layer is 13 * 13- * 16. The size of the filter used in this layer is 2 * 2, and the length and width steps are both 2, so the output matrix size of this layer is 5 * 5 * 16.\n",
    "model.add(MaxPooling2D(pool_size=(2, 2)))\n",
    "# The input matrix size of this layer is 6 * 6 * 16. This layer is called a convolution layer in the LeNet-5 paper, but because the size of the filter is 3 * 3, #\n",
    "# So it is not different from the fully connected layer. If the nodes in the 3 * 3 * 16 matrix are pulled into a vector, then this layer is the same as the fully connected layer.\n",
    "# The number of output nodes in this layer is 120, with a total of 3 * 3 * 16 * 120 + 120 = 17400 parameters.\n",
    "model.add(Flatten())\n",
    "model.add(Dense(120, activation='relu'))\n",
    "# The number of input nodes in this layer is 120 and the number of output nodes is 84. The total parameter is 120 * 84 + 84 = 10164 (w + b)\n",
    "model.add(Dense(84, activation='relu'))\n",
    "# The number of input nodes in this layer is 84 and the number of output nodes is 10. The total parameter is 84 * 10 + 10 = 850\n",
    "model.add(Dense(3, activation='softmax'))\n",
    "model.compile(loss=keras.metrics.categorical_crossentropy, optimizer=keras.optimizers.Adam(), metrics=['accuracy'])\n",
    "#model.fit(x_train, y_train, batch_size=128, epochs=20, verbose=1, validation_data=(x_test, y_test))\n",
    "#score = model.evaluate(x_test, y_test)\n",
    "#print('Test Loss:', score[0])\n",
    "#print('Test accuracy:', score[1])"
   ]
  },
  {
   "cell_type": "code",
   "execution_count": 22,
   "metadata": {},
   "outputs": [
    {
     "name": "stdout",
     "output_type": "stream",
     "text": [
      "Found 31 images belonging to 3 classes.\n",
      "Found 12 images belonging to 3 classes.\n",
      "Epoch 1/20\n",
      "2/2 [==============================] - 0s 216ms/step - loss: 1.1142 - accuracy: 0.3548 - val_loss: 1.1117 - val_accuracy: 0.3333\n",
      "Epoch 2/20\n",
      "2/2 [==============================] - 0s 46ms/step - loss: 1.0864 - accuracy: 0.3548 - val_loss: 1.0980 - val_accuracy: 0.4167\n",
      "Epoch 3/20\n",
      "2/2 [==============================] - 0s 86ms/step - loss: 1.0678 - accuracy: 0.4839 - val_loss: 1.0913 - val_accuracy: 0.5000\n",
      "Epoch 4/20\n",
      "2/2 [==============================] - 0s 78ms/step - loss: 1.0625 - accuracy: 0.4839 - val_loss: 1.0851 - val_accuracy: 0.4167\n",
      "Epoch 5/20\n",
      "2/2 [==============================] - 0s 83ms/step - loss: 1.0416 - accuracy: 0.6452 - val_loss: 1.0806 - val_accuracy: 0.4167\n",
      "Epoch 6/20\n",
      "2/2 [==============================] - 0s 92ms/step - loss: 1.0329 - accuracy: 0.7097 - val_loss: 1.0761 - val_accuracy: 0.4167\n",
      "Epoch 7/20\n",
      "2/2 [==============================] - 0s 64ms/step - loss: 1.0115 - accuracy: 0.6774 - val_loss: 1.0674 - val_accuracy: 0.4167\n",
      "Epoch 8/20\n",
      "2/2 [==============================] - 0s 95ms/step - loss: 0.9864 - accuracy: 0.5806 - val_loss: 1.0630 - val_accuracy: 0.5000\n",
      "Epoch 9/20\n",
      "2/2 [==============================] - 0s 84ms/step - loss: 0.9662 - accuracy: 0.6452 - val_loss: 1.0495 - val_accuracy: 0.5000\n",
      "Epoch 10/20\n",
      "2/2 [==============================] - 0s 68ms/step - loss: 0.9302 - accuracy: 0.5806 - val_loss: 1.0339 - val_accuracy: 0.5000\n",
      "Epoch 11/20\n",
      "2/2 [==============================] - 0s 84ms/step - loss: 0.9162 - accuracy: 0.8065 - val_loss: 1.0237 - val_accuracy: 0.5000\n",
      "Epoch 12/20\n",
      "2/2 [==============================] - 0s 96ms/step - loss: 0.8610 - accuracy: 0.7419 - val_loss: 1.0169 - val_accuracy: 0.5000\n",
      "Epoch 13/20\n",
      "2/2 [==============================] - 0s 61ms/step - loss: 0.8207 - accuracy: 0.5806 - val_loss: 0.9891 - val_accuracy: 0.5833\n",
      "Epoch 14/20\n",
      "2/2 [==============================] - 0s 90ms/step - loss: 0.7941 - accuracy: 0.7419 - val_loss: 0.9701 - val_accuracy: 0.5000\n",
      "Epoch 15/20\n",
      "2/2 [==============================] - 0s 61ms/step - loss: 0.7636 - accuracy: 0.7419 - val_loss: 0.9536 - val_accuracy: 0.5833\n",
      "Epoch 16/20\n",
      "2/2 [==============================] - 0s 92ms/step - loss: 0.7082 - accuracy: 0.7742 - val_loss: 0.9142 - val_accuracy: 0.5833\n",
      "Epoch 17/20\n",
      "2/2 [==============================] - 0s 56ms/step - loss: 0.6498 - accuracy: 0.7419 - val_loss: 0.9145 - val_accuracy: 0.5833\n",
      "Epoch 18/20\n",
      "2/2 [==============================] - 0s 85ms/step - loss: 0.6428 - accuracy: 0.7097 - val_loss: 0.8893 - val_accuracy: 0.5000\n",
      "Epoch 19/20\n",
      "2/2 [==============================] - 0s 66ms/step - loss: 0.6046 - accuracy: 0.7742 - val_loss: 0.8626 - val_accuracy: 0.6667\n",
      "Epoch 20/20\n",
      "2/2 [==============================] - 0s 93ms/step - loss: 0.5578 - accuracy: 0.8387 - val_loss: 0.8346 - val_accuracy: 0.5833\n"
     ]
    },
    {
     "data": {
      "text/plain": [
       "<keras.callbacks.callbacks.History at 0x1f0119bb550>"
      ]
     },
     "execution_count": 22,
     "metadata": {},
     "output_type": "execute_result"
    }
   ],
   "source": [
    "\n",
    "# Part 2 - Fitting the CNN to the images\n",
    "\n",
    "from keras.preprocessing.image import ImageDataGenerator\n",
    "\n",
    "train_datagen = ImageDataGenerator(rescale = 1./255,\n",
    "                                   shear_range = 0.2,\n",
    "                                   zoom_range = 0.2,\n",
    "                                   horizontal_flip = True)\n",
    "\n",
    "test_datagen = ImageDataGenerator(rescale = 1./255)\n",
    "\n",
    "training_set = train_datagen.flow_from_directory('C:/Users/user/Desktop/Resume/python_files/Python_KT/Python/Deep learning_practise/ImageClassification-master/ImageData/training',\n",
    "                                                 target_size = (32, 32),\n",
    "                                                 batch_size = 16,\n",
    "                                                 class_mode = 'categorical')\n",
    "\n",
    "test_set = test_datagen.flow_from_directory('C:/Users/user/Desktop/Resume/python_files/Python_KT/Python/Deep learning_practise/ImageClassification-master/ImageData/test',\n",
    "                                            target_size = (32, 32),\n",
    "                                            batch_size = 16,\n",
    "                                            class_mode = 'categorical')\n",
    "\n",
    "model.fit_generator(training_set,\n",
    "                         steps_per_epoch = len(training_set),\n",
    "                         epochs = 20,\n",
    "                         validation_data = test_set,    \n",
    "                         validation_steps = len(test_set))\n"
   ]
  },
  {
   "cell_type": "code",
   "execution_count": 23,
   "metadata": {},
   "outputs": [
    {
     "name": "stdout",
     "output_type": "stream",
     "text": [
      "[[1. 0. 0.]]\n",
      "Abdul Kalam\n"
     ]
    }
   ],
   "source": [
    "# Part 3 - Making new predictions\n",
    "import numpy as np\n",
    "from keras.preprocessing import image\n",
    "test_image = image.load_img('C:/Users/user/Desktop/Resume/python_files/Python_KT/Python/Deep learning_practise/ImageClassification-master/ImageData/abdul.jpg', target_size = (32, 32))\n",
    "test_image = image.img_to_array(test_image)\n",
    "test_image = np.expand_dims(test_image, axis = 0)\n",
    "result = model.predict(test_image)\n",
    "training_set.class_indices\n",
    "print(result)\n",
    "if result[0][0] == 1:\n",
    "    prediction = 'Abdul Kalam'\n",
    "    print(prediction)\n",
    "elif result[0][1] == 1:\n",
    "    prediction = 'Gandhi'\n",
    "    print(prediction)\n",
    "    \n",
    "else:\n",
    "    prediction = 'sundarpichai'\n",
    "    print(prediction)\n",
    "    "
   ]
  },
  {
   "cell_type": "code",
   "execution_count": null,
   "metadata": {},
   "outputs": [],
   "source": []
  },
  {
   "cell_type": "code",
   "execution_count": null,
   "metadata": {},
   "outputs": [],
   "source": []
  }
 ],
 "metadata": {
  "kernelspec": {
   "display_name": "Python 3",
   "language": "python",
   "name": "python3"
  },
  "language_info": {
   "codemirror_mode": {
    "name": "ipython",
    "version": 3
   },
   "file_extension": ".py",
   "mimetype": "text/x-python",
   "name": "python",
   "nbconvert_exporter": "python",
   "pygments_lexer": "ipython3",
   "version": "3.7.3"
  }
 },
 "nbformat": 4,
 "nbformat_minor": 4
}
